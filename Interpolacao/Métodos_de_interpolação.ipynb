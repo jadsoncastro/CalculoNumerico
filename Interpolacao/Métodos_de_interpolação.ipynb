{
  "nbformat": 4,
  "nbformat_minor": 0,
  "metadata": {
    "colab": {
      "provenance": [],
      "authorship_tag": "ABX9TyOxYUcPUJGHzYHlchQB1K2W",
      "include_colab_link": true
    },
    "kernelspec": {
      "name": "python3",
      "display_name": "Python 3"
    }
  },
  "cells": [
    {
      "cell_type": "markdown",
      "metadata": {
        "id": "view-in-github",
        "colab_type": "text"
      },
      "source": [
        "<a href=\"https://colab.research.google.com/github/jadsoncastro/CalculoNumerico/blob/main/Interpolacao/M%C3%A9todos_de_interpola%C3%A7%C3%A3o.ipynb\" target=\"_parent\"><img src=\"https://colab.research.google.com/assets/colab-badge.svg\" alt=\"Open In Colab\"/></a>"
      ]
    },
    {
      "cell_type": "markdown",
      "metadata": {
        "id": "a728wVERnwiK"
      },
      "source": [
        "# Função: Definição de funções auxiliares"
      ]
    },
    {
      "cell_type": "code",
      "metadata": {
        "id": "S8QLIIVi5SgU"
      },
      "source": [
        "'''\n",
        "  Funcao para impressao de matrizes\n",
        "'''\n",
        "def imprimeMatriz(matriz, descricao):\n",
        "  numLinhas=len(matriz)\n",
        "  numColunas=len(matriz[0])\n",
        "\n",
        "  print(descricao)\n",
        "  for i in range(numLinhas):\n",
        "    for j in range(numColunas):\n",
        "      print(\"%.3f\\t\"%matriz[i][j], end=\"\")\n",
        "    print()\n",
        "  print()\n",
        "\n",
        "'''\n",
        "  Funcao auxiliar para criar a matriz de diferenças finitas\n",
        "'''\n",
        "def criaMatriz(numLinhas):\n",
        "  matriz = []\n",
        "  \n",
        "  for i in range(numLinhas):\n",
        "    matriz.append([])\n",
        "    for j in range(numLinhas):\n",
        "      matriz[i].append(0)\n",
        "  \n",
        "  return matriz\n"
      ],
      "execution_count": null,
      "outputs": []
    },
    {
      "cell_type": "markdown",
      "metadata": {
        "id": "KoHM27ikxDQR"
      },
      "source": [
        "# Método de interpolação de Lagrange"
      ]
    },
    {
      "cell_type": "code",
      "metadata": {
        "id": "5krl3OIdxCPV"
      },
      "source": [
        "def funcaoL(num, vetorX, i):\n",
        "  produtorio = 1\n",
        "  \n",
        "  for j in range(len(vetorX)):\n",
        "    if i!=j:\n",
        "      produtorio *= (num-vetorX[j])/(vetorX[i]-vetorX[j])\n",
        "\n",
        "  return produtorio\n",
        "\n",
        "\n",
        "def calculaLagrange(num, x, y):\n",
        "\n",
        "  resultado = 0\n",
        "\n",
        "  for i in range(len(x)):\n",
        "    valor=funcaoL(num, x, i)\n",
        "    print(\"Valor de L%d=%.4f\"%(i,valor))\n",
        "    resultado+= y[i]*valor\n",
        "  \n",
        "\n",
        "  return resultado"
      ],
      "execution_count": null,
      "outputs": []
    },
    {
      "cell_type": "markdown",
      "source": [
        "#Polinômio interpolador de diferenças divididas"
      ],
      "metadata": {
        "id": "fuS9KdAyuEr9"
      }
    },
    {
      "cell_type": "code",
      "source": [
        "from math import *\n",
        "def calculaTabelaDiferencasDivididas(x, fx):\n",
        "\n",
        "  tamanhoTabela = len(fx)\n",
        "  tabelaDd = criaMatriz(tamanhoTabela)\n",
        "  \n",
        "  # Preenchendo a tabela de diferencas divididas\n",
        "  # Primeira parte: Definir os valores de primeira ordem: fx\n",
        "  for i in range(tamanhoTabela):\n",
        "    tabelaDd[i][0] = fx[i]\n",
        "  \n",
        "  # Segunda parte: calcular as ordens 2... n\n",
        "  for j in range(1,tamanhoTabela):\n",
        "    for i in range(tamanhoTabela-j):\n",
        "      tabelaDd[i][j] = (tabelaDd[i+1][j-1]-tabelaDd[i][j-1])/(x[i+j]-x[i])\n",
        "  \n",
        "  \n",
        "  imprimeMatriz(tabelaDd, \"Tabela de diferencas divididas\")\n",
        "  return tabelaDd\n",
        "\n",
        "\n",
        "\n",
        "\n",
        "def polinomioDd(query, x, fx, grau=2):\n",
        "  z= (query - x[0])/(x[1] - x[0])\n",
        "\n",
        "  tabelaDd = calculaTabelaDiferencasDivididas(x, fx)\n",
        "\n",
        "  if len(tabelaDd) < grau:\n",
        "    print(\"O grau do polinomio solicitado para calculo nao esta contido na tabela\")\n",
        "  \n",
        "\n",
        "  return 0\n"
      ],
      "metadata": {
        "id": "f4QM37NluFfl"
      },
      "execution_count": null,
      "outputs": []
    },
    {
      "cell_type": "markdown",
      "metadata": {
        "id": "y8Jf9vgn3Mu_"
      },
      "source": [
        "# Polinômios interpoladores de diferenças finitas"
      ]
    },
    {
      "cell_type": "code",
      "metadata": {
        "id": "7EL-Rh3U3MTq"
      },
      "source": [
        "from math import *\n",
        "def calculaTabelaDiferencas(fx, xInicio, xFim):\n",
        "  auxFx =[]\n",
        "  for i in range(xInicio, (xFim+1)):\n",
        "    auxFx.append(fx[i])\n",
        "  \n",
        "  tamanhoTabela = len(auxFx)\n",
        "  tabelaDf = criaMatriz(tamanhoTabela)\n",
        "  \n",
        "  # Preenchendo a tabela de diferencas finitas\n",
        "  # Primeira parte: Definir os valores de primeira ordem: fx\n",
        "  for i in range(tamanhoTabela):\n",
        "    tabelaDf[i][0] = auxFx[i]\n",
        "  \n",
        "  # Segunda parte: calcular as ordens 2... n\n",
        "  for j in range(1, tamanhoTabela):\n",
        "    for i in range((tamanhoTabela-j)):\n",
        "      tabelaDf[i][j] = tabelaDf[i+1][j-1] - tabelaDf[i][j-1]\n",
        "\n",
        "  imprimeMatriz(tabelaDf, \"Tabela de diferencas finitas\")\n",
        "  return tabelaDf\n",
        "\n",
        "def calculaPolinomioRecursivo(z, grau, tabelaDf):\n",
        "  if grau == 0:\n",
        "    return tabelaDf[0][0]\n",
        "  else:\n",
        "    tmp = z\n",
        "    for i in range(1,grau):\n",
        "      tmp*=(z-i)\n",
        "    \n",
        "    tmp*=tabelaDf[0][grau]\n",
        "    tmp = tmp/factorial(grau)\n",
        "\n",
        "    return tmp+calculaPolinomioRecursivo(z,grau-1, tabelaDf)\n",
        "\n",
        "\n",
        "\n",
        "def polinomioDF(query, x, fx, xInicio, xFim, grau=2):\n",
        "  z= (query - x[xInicio])/(x[xInicio+1] - x[xInicio])\n",
        "\n",
        "  tabelaDf = calculaTabelaDiferencas(fx, xInicio, xFim)\n",
        "\n",
        "  if len(tabelaDf) < grau:\n",
        "    print(\"O grau do polinomio solicitado para calculo nao esta contido na tabela\")\n",
        "  \n",
        "  px = calculaPolinomioRecursivo(z,grau, tabelaDf)\n",
        "\n",
        "  return px, z\n"
      ],
      "execution_count": null,
      "outputs": []
    },
    {
      "cell_type": "markdown",
      "metadata": {
        "id": "uSQQKDVOt1E4"
      },
      "source": [
        "# Execução do programa\n"
      ]
    },
    {
      "cell_type": "code",
      "source": [
        "# Calculo lagrange\n",
        "x=[0,   0.5,   1]\n",
        "y=[1.3, 2.5, 0.9]\n",
        "\n",
        "resultado = calculaLagrange(0.8, x, y)\n",
        "print(resultado)"
      ],
      "metadata": {
        "colab": {
          "base_uri": "https://localhost:8080/"
        },
        "id": "24yC_XOhH9gW",
        "outputId": "1fffa09c-1012-4a97-dfa7-3b34ab8ad3c6"
      },
      "execution_count": null,
      "outputs": [
        {
          "output_type": "stream",
          "name": "stdout",
          "text": [
            "Valor de L0=-0.1200\n",
            "Valor de L1=0.6400\n",
            "Valor de L2=0.4800\n",
            "1.876\n"
          ]
        }
      ]
    },
    {
      "cell_type": "code",
      "source": [
        "# Teste do polinomio de diferencas divididas\n",
        "# x=[1,2,4,5]\n",
        "# y=[1,0.5,0.25,0.2]\n",
        "\n",
        "x=[ 0,  1.8,   5,     6]\n",
        "y=[26, 16.415, 5.375, 3.5]\n",
        "polinomioDd(3.5,x,y)"
      ],
      "metadata": {
        "colab": {
          "base_uri": "https://localhost:8080/"
        },
        "id": "32H-iR8K0Q3P",
        "outputId": "6ee8127a-01d9-440f-e285-1d5bd19b0dc2"
      },
      "execution_count": null,
      "outputs": [
        {
          "output_type": "stream",
          "name": "stdout",
          "text": [
            "Tabela de diferencas divididas\n",
            "26.000\t-5.325\t0.375\t-0.000\t\n",
            "16.415\t-3.450\t0.375\t0.000\t\n",
            "5.375\t-1.875\t0.000\t0.000\t\n",
            "3.500\t0.000\t0.000\t0.000\t\n",
            "\n"
          ]
        },
        {
          "output_type": "execute_result",
          "data": {
            "text/plain": [
              "0"
            ]
          },
          "metadata": {},
          "execution_count": 13
        }
      ]
    },
    {
      "cell_type": "code",
      "metadata": {
        "id": "ugFlOrk3t4ql",
        "colab": {
          "base_uri": "https://localhost:8080/"
        },
        "outputId": "a18a2c21-672c-4c35-b922-d7d75bc0bfa6"
      },
      "source": [
        "#Exercicio 1, Secao 12.5\n",
        "x=[0, 4, 8, 12, 16, 20]\n",
        "y=[63.38, 74.67, 82.74, 91.69, 101.60, 112.58]\n",
        "\n",
        "query = 10\n",
        "resultado, z = polinomioDF(query, x, y, 2, 5, grau=3)\n",
        "print(\"O valor de f(%.2f) ~= P(%.2f) ~= %.5f\" %(query, z, resultado))\n",
        "\n",
        "\n",
        "#Exercicio 2, Secao 12.5\n",
        "x=[0, 0.5, 1, 1.5, 2, 2.5, 3]\n",
        "y=[0.5, 0.69146, 0.84134, 0.93319, 0.97725, 0.99379, 0.99865]\n",
        "\n",
        "query = 0.3\n",
        "valorGrau = 4\n",
        "resultado, z = polinomioDF(query, x, y, 0, 4, grau=valorGrau)\n",
        "print(\"Para o grau %d, f(%.2f) ~= P(%.2f) ~= %.5f\" %(valorGrau, query, z, resultado))"
      ],
      "execution_count": null,
      "outputs": [
        {
          "output_type": "stream",
          "name": "stdout",
          "text": [
            "Tabela de diferencas finitas\n",
            "82.740\t8.950\t0.960\t0.110\t\n",
            "91.690\t9.910\t1.070\t0.000\t\n",
            "101.600\t10.980\t0.000\t0.000\t\n",
            "112.580\t0.000\t0.000\t0.000\t\n",
            "\n",
            "O valor de f(10.00) ~= P(0.50) ~= 87.10188\n",
            "Tabela de diferencas finitas\n",
            "0.500\t0.191\t-0.042\t-0.016\t0.027\t\n",
            "0.691\t0.150\t-0.058\t0.010\t0.000\t\n",
            "0.841\t0.092\t-0.048\t0.000\t0.000\t\n",
            "0.933\t0.044\t0.000\t0.000\t0.000\t\n",
            "0.977\t0.000\t0.000\t0.000\t0.000\t\n",
            "\n",
            "Para o grau 4, f(0.30) ~= P(0.60) ~= 0.61805\n"
          ]
        }
      ]
    }
  ]
}