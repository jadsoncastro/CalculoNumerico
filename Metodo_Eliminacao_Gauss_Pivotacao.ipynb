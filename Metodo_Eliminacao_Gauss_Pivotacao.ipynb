{
  "nbformat": 4,
  "nbformat_minor": 0,
  "metadata": {
    "colab": {
      "name": "20201 (Retomada) - Metodo-Eliminacao-Gauss-Pivotacao.ipynb",
      "provenance": [],
      "collapsed_sections": []
    },
    "kernelspec": {
      "name": "python3",
      "display_name": "Python 3"
    }
  },
  "cells": [
    {
      "cell_type": "markdown",
      "metadata": {
        "id": "eL8MS4JYjuc9"
      },
      "source": [
        "# **Método de eliminação de Gauss com pivotação parcial**\n",
        "\n",
        "Neste programa, implementamos o método de eliminação de Gauss com pivotação parcial. O método consiste na troca de linhas entre a linha sob análise (linha fixada) e a linha com o coeficiente de maior valor, além da realização de transformações elementares em uma matriz aumentada, com o objetivo de transformá-la em uma triangular superior. Com base na matriz triangular superior, é aplicado o método de substituições retroativas."
      ]
    },
    {
      "cell_type": "markdown",
      "metadata": {
        "id": "a728wVERnwiK"
      },
      "source": [
        "# Função: Definição de funções auxiliares"
      ]
    },
    {
      "cell_type": "code",
      "metadata": {
        "id": "pnmzj-hcR3RE"
      },
      "source": [
        "'''\n",
        "  Funcao auxiliar para criar a matriz aumentada\n",
        "'''\n",
        "def criaMatrizAumentada(A,b):\n",
        "  matrizAumentada = []\n",
        "  numLinhas = len(A)\n",
        "  \n",
        "  for i in range(numLinhas):\n",
        "    linha=A[i].copy()\n",
        "    linha.append(b[i])\n",
        "    matrizAumentada.append(linha)\n",
        "  \n",
        "  return matrizAumentada\n",
        "\n",
        "\n",
        "'''\n",
        "  Funcao auxiliar. Calcular a operacao elementar da matriz\n",
        "'''\n",
        "def  operacaoElementar(m, linhaAtualizar, linhaBase):\n",
        "  nCol = len(linhaAtualizar)\n",
        "\n",
        "  for i in range(nCol):\n",
        "    linhaAtualizar[i]= linhaAtualizar[i]+m*linhaBase[i]\n",
        "\n",
        "\n",
        "'''\n",
        "  Funcao auxiliar: Algoritmo de substituicoes retroativas\n",
        "'''\n",
        "def substituicoesRetroativas(Ud):\n",
        "  x=[]\n",
        "  n = len(Ud)\n",
        "  c = len(Ud[0])-1\n",
        "  \n",
        "  for i in range(n):\n",
        "    x.append(0)\n",
        "  \n",
        "  # Incicio do algoritmo de substituicoes retroativas\n",
        "  x[n-1] = Ud[n-1][c]/Ud[n-1][n-1] \n",
        "  \n",
        "  for i in range((n-2),-1,-1):\n",
        "    soma=0\n",
        "    for j in range((i+1), n):\n",
        "      soma+=Ud[i][j]*x[j]\n",
        "    x[i]=(Ud[i][c]-soma)/Ud[i][i]\n",
        "  \n",
        "  return x # x possui o mesmo tamanho de d\n",
        "\n",
        "'''\n",
        "  Funcao auxiliar - troca de linhas\n",
        "  Sera trocada a linha do pivo pela linha abaixo dele com maior coeficiente\n",
        "'''\n",
        "def trocaDeLInha(matriz,j):\n",
        "  numLinhas = len(matriz)\n",
        "  maiorCoef = abs(matriz[j][j]) # Selecionando o pivo como maior valor\n",
        "  maiorId   = j # linha correspondente do pivo\n",
        "\n",
        "  for i in range(j,numLinhas):\n",
        "    val = abs(matriz[i][j])\n",
        "    if val > maiorCoef:\n",
        "      maiorCoef=val\n",
        "      maiorId = i\n",
        "  \n",
        "  print(\"Trocando linhas\", j+1, \"e\", maiorId+1)\n",
        "  # Realizacao da troca de posicoes\n",
        "  aux = matriz[j].copy()\n",
        "  matriz[j] = matriz[maiorId].copy()\n",
        "  matriz[maiorId] = aux\n",
        "\n",
        "\n",
        "'''\n",
        "  Funcao para impressao de matrizes\n",
        "'''\n",
        "def imprimeMatriz(matriz, descricao):\n",
        "  numLinhas=len(matriz)\n",
        "  numColunas=len(matriz[0])\n",
        "\n",
        "  print(descricao)\n",
        "  for i in range(numLinhas):\n",
        "    for j in range(numColunas):\n",
        "      print(\"%.4f\\t\"%matriz[i][j], end=\"\")\n",
        "    print()\n"
      ],
      "execution_count": 13,
      "outputs": []
    },
    {
      "cell_type": "markdown",
      "metadata": {
        "id": "0Pnp_2d_pUt8"
      },
      "source": [
        "# Função Método de Gauss com pivotação.\n",
        "\n",
        "A função receberá como parâmetro a matriz de coeficientes (**A**) e a matriz de termos independentes (**b**) e cria a matriz aumentada utilizando a função *criaMatrizAumentada*"
      ]
    },
    {
      "cell_type": "code",
      "metadata": {
        "id": "bi0jKCuspyXr"
      },
      "source": [
        "def metodoGaussPivotacao(A,b):\n",
        "  matriz= criaMatrizAumentada(A,b)\n",
        "\n",
        "  numLinhas = len(matriz)\n",
        "  numColunas= len(matriz[0])\n",
        "\n",
        "  # impressao da matriz resultante\n",
        "  imprimeMatriz(matriz,\"Matriz aumentada\")\n",
        "  \n",
        "  # Execucao do metodo de Gauss\n",
        "  for j in range(numLinhas):\n",
        "    print(\"\\nIteracao\", j+1)\n",
        "    trocaDeLInha(matriz,j)\n",
        "\n",
        "    imprimeMatriz(matriz,\"Matriz apos troca de linhas\")\n",
        "\n",
        "    for i in range(j+1, numLinhas):\n",
        "      \n",
        "      # Calculo do multiplicador\n",
        "      multiplicador= -(matriz[i][j]/matriz[j][j])\n",
        "      print(\"Multiplicador m%d%d= %.4f\" % (i+1,j+1,multiplicador))\n",
        "\n",
        "      # Realizacao da operacao elementar\n",
        "      operacaoElementar(multiplicador, matriz[i], matriz[j])\n",
        "    \n",
        "    imprimeMatriz(matriz,\"Matriz apos operacoes elementares\")\n",
        "\n",
        "  \n",
        "\n",
        "  # impressao da matriz resultante\n",
        "  imprimeMatriz(matriz, \"\\nMatriz aumentada equivalente (triangular superior)\")\n",
        "\n",
        "  # Resolucao por meio de substituicoes retroativas\n",
        "  return substituicoesRetroativas(matriz)"
      ],
      "execution_count": 14,
      "outputs": []
    },
    {
      "cell_type": "markdown",
      "metadata": {
        "id": "uSQQKDVOt1E4"
      },
      "source": [
        "# Execução do programa\n"
      ]
    },
    {
      "cell_type": "code",
      "metadata": {
        "id": "ugFlOrk3t4ql",
        "colab": {
          "base_uri": "https://localhost:8080/"
        },
        "outputId": "c9434bf2-9232-402d-995a-c85c3c26d0e7"
      },
      "source": [
        "#calculo de sistemas testados em sala de aula\n",
        "\n",
        "# A=[[2, -5, 3,  1],\n",
        "#    [3, -7, 3, -1],\n",
        "#    [5, -9, 6,  2],\n",
        "#    [4, -6, 3,  1]]\n",
        "\n",
        "# b=[ 5,\n",
        "#    -1,\n",
        "#     7,\n",
        "#     8]\n",
        "\n",
        "A=[[-13,  3,  0],\n",
        "   [ 1,  -1,  0],\n",
        "   [ 2,   3, -6]]\n",
        "\n",
        "b=[-20,\n",
        "     0,\n",
        "   -25]\n",
        "\n",
        "print(\"Metodo com pivotacao\")\n",
        "vetorResultado = metodoGaussPivotacao(A,b)\n",
        "\n",
        "print(\"\\nMetodo com Pivotacao\\nSolucao do sistema: [\", end=\" \")\n",
        "for v in vetorResultado:\n",
        "  print(\"%.4f\" %v, end=\" \")\n",
        "print(\"]\")"
      ],
      "execution_count": 15,
      "outputs": [
        {
          "output_type": "stream",
          "name": "stdout",
          "text": [
            "Metodo com pivotacao\n",
            "Matriz aumentada\n",
            "-13.0000\t3.0000\t0.0000\t-20.0000\t\n",
            "1.0000\t-1.0000\t0.0000\t0.0000\t\n",
            "2.0000\t3.0000\t-6.0000\t-25.0000\t\n",
            "\n",
            "Iteracao 1\n",
            "Trocando linhas 1 e 1\n",
            "Matriz apos troca de linhas\n",
            "-13.0000\t3.0000\t0.0000\t-20.0000\t\n",
            "1.0000\t-1.0000\t0.0000\t0.0000\t\n",
            "2.0000\t3.0000\t-6.0000\t-25.0000\t\n",
            "Multiplicador m21= 0.0769\n",
            "Multiplicador m31= 0.1538\n",
            "Matriz apos operacoes elementares\n",
            "-13.0000\t3.0000\t0.0000\t-20.0000\t\n",
            "0.0000\t-0.7692\t0.0000\t-1.5385\t\n",
            "0.0000\t3.4615\t-6.0000\t-28.0769\t\n",
            "\n",
            "Iteracao 2\n",
            "Trocando linhas 2 e 3\n",
            "Matriz apos troca de linhas\n",
            "-13.0000\t3.0000\t0.0000\t-20.0000\t\n",
            "0.0000\t3.4615\t-6.0000\t-28.0769\t\n",
            "0.0000\t-0.7692\t0.0000\t-1.5385\t\n",
            "Multiplicador m32= 0.2222\n",
            "Matriz apos operacoes elementares\n",
            "-13.0000\t3.0000\t0.0000\t-20.0000\t\n",
            "0.0000\t3.4615\t-6.0000\t-28.0769\t\n",
            "0.0000\t0.0000\t-1.3333\t-7.7778\t\n",
            "\n",
            "Iteracao 3\n",
            "Trocando linhas 3 e 3\n",
            "Matriz apos troca de linhas\n",
            "-13.0000\t3.0000\t0.0000\t-20.0000\t\n",
            "0.0000\t3.4615\t-6.0000\t-28.0769\t\n",
            "0.0000\t0.0000\t-1.3333\t-7.7778\t\n",
            "Matriz apos operacoes elementares\n",
            "-13.0000\t3.0000\t0.0000\t-20.0000\t\n",
            "0.0000\t3.4615\t-6.0000\t-28.0769\t\n",
            "0.0000\t0.0000\t-1.3333\t-7.7778\t\n",
            "\n",
            "Matriz aumentada equivalente (triangular superior)\n",
            "-13.0000\t3.0000\t0.0000\t-20.0000\t\n",
            "0.0000\t3.4615\t-6.0000\t-28.0769\t\n",
            "0.0000\t0.0000\t-1.3333\t-7.7778\t\n",
            "\n",
            "Metodo com Pivotacao\n",
            "Solucao do sistema: [ 2.0000 2.0000 5.8333 ]\n"
          ]
        }
      ]
    }
  ]
}