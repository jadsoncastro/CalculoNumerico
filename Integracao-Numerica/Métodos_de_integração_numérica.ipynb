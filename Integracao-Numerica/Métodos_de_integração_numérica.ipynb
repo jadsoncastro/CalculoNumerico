{
  "nbformat": 4,
  "nbformat_minor": 0,
  "metadata": {
    "colab": {
      "provenance": [],
      "collapsed_sections": [],
      "authorship_tag": "ABX9TyNZmJMDlThcnX/zP1WvpD69",
      "include_colab_link": true
    },
    "kernelspec": {
      "name": "python3",
      "display_name": "Python 3"
    },
    "language_info": {
      "name": "python"
    }
  },
  "cells": [
    {
      "cell_type": "markdown",
      "metadata": {
        "id": "view-in-github",
        "colab_type": "text"
      },
      "source": [
        "<a href=\"https://colab.research.google.com/github/jadsoncastro/CalculoNumerico/blob/main/Integracao-Numerica/M%C3%A9todos_de_integra%C3%A7%C3%A3o_num%C3%A9rica.ipynb\" target=\"_parent\"><img src=\"https://colab.research.google.com/assets/colab-badge.svg\" alt=\"Open In Colab\"/></a>"
      ]
    },
    {
      "cell_type": "code",
      "metadata": {
        "id": "C3XLrI05Bz3Y"
      },
      "source": [
        "# Importação de bibliotecas\n",
        "import math"
      ],
      "execution_count": null,
      "outputs": []
    },
    {
      "cell_type": "markdown",
      "metadata": {
        "id": "UuFEh4If-aBd"
      },
      "source": [
        "# Funções auxiliares\n"
      ]
    },
    {
      "cell_type": "code",
      "metadata": {
        "id": "ZBbxkQV4_1B3"
      },
      "source": [
        "def tabelaFuncao(funcao, numSubintervalos, a, b):\n",
        "  h = (b-a)/numSubintervalos\n",
        "  vetorFx = []\n",
        "  x=a\n",
        "\n",
        "  for i in range(numeroSubintervalos+1):\n",
        "    #log da tabela\n",
        "    print(\"x=%.4f, f(x)=%.4f\" %(x, funcao(x)))\n",
        "    vetorFx.append(funcao(x))\n",
        "    x=x+h\n",
        "\n",
        "  return vetorFx, h"
      ],
      "execution_count": null,
      "outputs": []
    },
    {
      "cell_type": "markdown",
      "metadata": {
        "id": "aPWeyqWf-NoX"
      },
      "source": [
        "# Regra dos trapézios"
      ]
    },
    {
      "cell_type": "code",
      "metadata": {
        "id": "toiNBYa3FPVs"
      },
      "source": [
        "def trapezios(vetorFx, h):\n",
        "  integral = vetorFx[0] + vetorFx[-1]\n",
        "\n",
        "  #print(\"Regra dos trapezios: \")\n",
        "  #print(\"%.4f, 1, %.4f\" % (vetorFx[0], vetorFx[0]))\n",
        "\n",
        "  for i in range(1, len(vetorFx)-1):\n",
        "    integral+= 2*vetorFx[i]\n",
        "    #print(\"%.4f, 2, %.4f\" % (vetorFx[i], 2*vetorFx[i]))\n",
        "\n",
        "  #print(\"%.4f, 1, %.4f\" % (vetorFx[-1], vetorFx[-1]))\n",
        "  #print(\"Somatorio da integral (antes da multiplicacao pelo h/2 %.4f)\" % integral)\n",
        "\n",
        "  integral = (h/2)*integral\n",
        "  return integral"
      ],
      "execution_count": null,
      "outputs": []
    },
    {
      "cell_type": "markdown",
      "metadata": {
        "id": "ntPlVTw2-TPO"
      },
      "source": [
        "# Primeira regra de Simpson"
      ]
    },
    {
      "cell_type": "code",
      "metadata": {
        "id": "-FcRSVra-U_d"
      },
      "source": [
        "def simpsonR1(vetorFx, h):\n",
        "  integral = 0.0\n",
        "  for i in range(2, len(vetorFx), 2):\n",
        "    integral+= (h/3)*(vetorFx[i-2]+ 4*vetorFx[i-1]+ vetorFx[i])\n",
        "    #print(\"%d, %d, %d\" % (i-2, i-1, i))\n",
        "  \n",
        "  return integral"
      ],
      "execution_count": null,
      "outputs": []
    },
    {
      "cell_type": "markdown",
      "metadata": {
        "id": "SUhhQn8u-Vqt"
      },
      "source": [
        "# Segunda regra de Simpson"
      ]
    },
    {
      "cell_type": "code",
      "metadata": {
        "id": "vHqGMAOl-Yjz"
      },
      "source": [
        "def simpsonR2(vetorFx, h):\n",
        "  integral = 0.0\n",
        "  for i in range(3, len(vetorFx), 3):\n",
        "    integral+= (3*h/8)*(vetorFx[i-3]+ 3*vetorFx[i-2] + 3*vetorFx[i-1] + vetorFx[i])\n",
        "    # print(\"%d, %d, %d, %d\" % (i-3, i-2, i-1, i))\n",
        "  \n",
        "  return integral"
      ],
      "execution_count": null,
      "outputs": []
    },
    {
      "cell_type": "markdown",
      "metadata": {
        "id": "a6UXllf8BKnd"
      },
      "source": [
        "# Definição da função que será calculada a integral"
      ]
    },
    {
      "cell_type": "code",
      "metadata": {
        "id": "dptpTgm0BOuj"
      },
      "source": [
        "def funcaoIntegracao(x):\n",
        "  # return 1/x\n",
        "  return 1/(x*math.log(x))\n",
        "  #return math.sqrt(x)"
      ],
      "execution_count": null,
      "outputs": []
    },
    {
      "cell_type": "markdown",
      "metadata": {
        "id": "wEYwcjU1BBe8"
      },
      "source": [
        "# Trecho para execução dos métodos"
      ]
    },
    {
      "cell_type": "code",
      "metadata": {
        "colab": {
          "base_uri": "https://localhost:8080/"
        },
        "id": "g5hfvNYYBDdV",
        "outputId": "73c7435b-be55-45e1-b342-847b4a0218d8"
      },
      "source": [
        "# Parametros para alteracao\n",
        "numeroSubintervalos = 12\n",
        "a=2\n",
        "b=5\n",
        "\n",
        "vetorFx, h = tabelaFuncao(funcaoIntegracao, numeroSubintervalos, a, b)\n",
        "\n",
        "# Regra dos trapezios\n",
        "print(\"Regra dos trapezios para %d subintervalos = %.4f\" %(numeroSubintervalos, trapezios(vetorFx, h)))\n",
        "\n",
        "# Primeira Regra de Simpson\n",
        "print(\"Primeira Regra de Simpson para %d subintervalos = %.4f\" %(numeroSubintervalos, simpsonR1(vetorFx, h)))\n",
        "\n",
        "# Segunda Regra de Simpson\n",
        "print(\"Segunda Regra de Simpson para %d subintervalos = %.4f\" %(numeroSubintervalos, simpsonR2(vetorFx, h)))"
      ],
      "execution_count": null,
      "outputs": [
        {
          "output_type": "stream",
          "name": "stdout",
          "text": [
            "x=2.0000, f(x)=0.7213\n",
            "x=2.2500, f(x)=0.5481\n",
            "x=2.5000, f(x)=0.4365\n",
            "x=2.7500, f(x)=0.3595\n",
            "x=3.0000, f(x)=0.3034\n",
            "x=3.2500, f(x)=0.2611\n",
            "x=3.5000, f(x)=0.2281\n",
            "x=3.7500, f(x)=0.2018\n",
            "x=4.0000, f(x)=0.1803\n",
            "x=4.2500, f(x)=0.1626\n",
            "x=4.5000, f(x)=0.1477\n",
            "x=4.7500, f(x)=0.1351\n",
            "x=5.0000, f(x)=0.1243\n",
            "Regra dos trapezios para 12 subintervalos = 0.8467\n",
            "Primeira Regra de Simpson para 12 subintervalos = 0.8425\n",
            "Segunda Regra de Simpson para 12 subintervalos = 0.8426\n"
          ]
        }
      ]
    }
  ]
}