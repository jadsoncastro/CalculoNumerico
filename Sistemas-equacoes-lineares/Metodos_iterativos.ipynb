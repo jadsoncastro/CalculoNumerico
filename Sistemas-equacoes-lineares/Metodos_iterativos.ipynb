{
  "nbformat": 4,
  "nbformat_minor": 0,
  "metadata": {
    "colab": {
      "name": "Metodos-iterativos.ipynb",
      "provenance": [],
      "authorship_tag": "ABX9TyP0teTXmtCXH2AqZqMbmB9/",
      "include_colab_link": true
    },
    "kernelspec": {
      "name": "python3",
      "display_name": "Python 3"
    },
    "language_info": {
      "name": "python"
    }
  },
  "cells": [
    {
      "cell_type": "markdown",
      "metadata": {
        "id": "view-in-github",
        "colab_type": "text"
      },
      "source": [
        "<a href=\"https://colab.research.google.com/github/jadsoncastro/CalculoNumerico/blob/main/Sistemas-equacoes-lineares/Metodos_iterativos.ipynb\" target=\"_parent\"><img src=\"https://colab.research.google.com/assets/colab-badge.svg\" alt=\"Open In Colab\"/></a>"
      ]
    },
    {
      "cell_type": "markdown",
      "metadata": {
        "id": "-2u9u6ulQkl0"
      },
      "source": [
        "#Método iterativo de Jacobi"
      ]
    },
    {
      "cell_type": "code",
      "metadata": {
        "id": "CMfN8SK9QnEw"
      },
      "source": [
        "from math import *\n",
        "\n",
        "def metodoJacobi(A,b,x, maxIter=10, eps=0.001):\n",
        "  \n",
        "  cont=0\n",
        "  n = len(A)\n",
        "\n",
        "  difference = float('inf')\n",
        "  xOld = x.copy()\n",
        "  xNew = x.copy()\n",
        "\n",
        "  while cont < maxIter and difference > eps:\n",
        "    \n",
        "    for i in range(n):\n",
        "      sumTerms = 0.0\n",
        "      for j in range(n):\n",
        "        if i !=j:\n",
        "          sumTerms += A[i][j]*xOld[j]\n",
        "      \n",
        "      xNew[i] = (1/A[i][i])*(b[i] - sumTerms)\n",
        "    \n",
        "    \n",
        "    # Check the new maximum value to specify the error\n",
        "    difference = float('-inf')\n",
        "    for k in range(n):\n",
        "      v = abs(xNew[i]-xOld[i])\n",
        "      if v > difference:\n",
        "        difference = v\n",
        "\n",
        "    print(\"xNew\", xNew, \"error: \", difference)\n",
        "    xOld = xNew.copy()\n",
        "    cont +=1\n",
        "\n",
        "  return xNew\n",
        "\n"
      ],
      "execution_count": null,
      "outputs": []
    },
    {
      "cell_type": "markdown",
      "metadata": {
        "id": "hvoNBAb-nYL1"
      },
      "source": [
        "#Método iterativo de Gauss-Seidel\n"
      ]
    },
    {
      "cell_type": "code",
      "metadata": {
        "id": "0UPqoSDFncnT"
      },
      "source": [
        "from math import *\n",
        "\n",
        "def metodoGaussSeidel(A,b,x, maxIter=10, eps=0.001):\n",
        "  \n",
        "  cont=0\n",
        "  n = len(A)\n",
        "\n",
        "  difference = float('inf')\n",
        "  xNew = x.copy()\n",
        "\n",
        "  while cont < maxIter and difference > eps:\n",
        "    xOld = xNew.copy()\n",
        "\n",
        "    for i in range(n):\n",
        "      sumTerms = 0.0\n",
        "      for j in range(n):\n",
        "        if i !=j:\n",
        "          sumTerms += A[i][j]*xNew[j]\n",
        "      \n",
        "      xNew[i] = (1/A[i][i])*(b[i] - sumTerms)\n",
        "    \n",
        "    # Check the new maximum value to specify the error\n",
        "    difference = float('-inf')\n",
        "    for k in range(n):\n",
        "      v = abs(xNew[i]-xOld[i])\n",
        "      if v > difference:\n",
        "        difference = v\n",
        "\n",
        "    print(\"xNew\", xNew, \"error: \", difference)\n",
        "    xOld = xNew.copy()\n",
        "    cont +=1\n",
        "\n",
        "  return xNew\n",
        "\n"
      ],
      "execution_count": null,
      "outputs": []
    }
  ]
}