{
  "nbformat": 4,
  "nbformat_minor": 0,
  "metadata": {
    "colab": {
      "name": "Metodos-iterativos.ipynb",
      "provenance": [],
      "toc_visible": true,
      "authorship_tag": "ABX9TyMoh8AIFswo27/4FPzp1BUJ",
      "include_colab_link": true
    },
    "kernelspec": {
      "name": "python3",
      "display_name": "Python 3"
    },
    "language_info": {
      "name": "python"
    }
  },
  "cells": [
    {
      "cell_type": "markdown",
      "metadata": {
        "id": "view-in-github",
        "colab_type": "text"
      },
      "source": [
        "<a href=\"https://colab.research.google.com/github/jadsoncastro/CalculoNumerico/blob/main/Sistemas-equacoes-lineares/Metodos_iterativos.ipynb\" target=\"_parent\"><img src=\"https://colab.research.google.com/assets/colab-badge.svg\" alt=\"Open In Colab\"/></a>"
      ]
    },
    {
      "cell_type": "markdown",
      "metadata": {
        "id": "-2u9u6ulQkl0"
      },
      "source": [
        "#Método iterativo de Jacobi"
      ]
    },
    {
      "cell_type": "code",
      "metadata": {
        "id": "CMfN8SK9QnEw"
      },
      "source": [
        "from math import *\n",
        "\n",
        "def metodoJacobi(A,b,x, maxIter=10, eps=0.001):\n",
        "  \n",
        "  cont=0\n",
        "  n = len(A)\n",
        "\n",
        "  difference = float('inf')\n",
        "  xOld = x.copy()\n",
        "  xNew = x.copy()\n",
        "\n",
        "  #Trecho para impressao cabecalho\n",
        "  txtHead =\"\\tk|\"\n",
        "  txtHead+=\"\".join(\"        x{:d}|\".format(f) for f in range(1,n+1))\n",
        "  txtHead+=\" error(max)\"\n",
        "  print(txtHead)\n",
        "\n",
        "  txtBody=\"\\t{:d}|\".format(cont)\n",
        "  txtBody+=\"\".join(\"{:10.4f}|\".format(s) for s in xOld)\n",
        "  txtBody+=\"{:10.4f}\".format(difference)\n",
        "  print(txtBody)\n",
        "  #Fim\n",
        "    \n",
        "  while cont < maxIter and difference > eps:    \n",
        "    for i in range(n):\n",
        "      sumTerms = 0.0\n",
        "      for j in range(n):\n",
        "        if i !=j:\n",
        "          sumTerms += A[i][j]*xOld[j]\n",
        "\n",
        "      xNew[i] = (1/A[i][i])*(b[i] - sumTerms)\n",
        "     \n",
        "    # Check the new maximum value to specify the error\n",
        "    difference = float('-inf')\n",
        "    for k in range(n):\n",
        "      v = abs(xNew[k]-xOld[k])\n",
        "      if v > difference:\n",
        "        difference = v\n",
        "\n",
        "    xOld = xNew.copy()\n",
        "    cont +=1\n",
        "\n",
        "    #Impressao dos resultados\n",
        "    txtBody=\"\\t{:d}|\".format(cont)\n",
        "    txtBody+=\"\".join(\"{:10.4f}|\".format(s) for s in xOld)\n",
        "    txtBody+=\"{:10.4f}\".format(difference)\n",
        "    print(txtBody)\n",
        "\n",
        "\n",
        "  return xNew\n",
        "\n"
      ],
      "execution_count": 156,
      "outputs": []
    },
    {
      "cell_type": "markdown",
      "metadata": {
        "id": "hvoNBAb-nYL1"
      },
      "source": [
        "#Método iterativo de Gauss-Seidel\n"
      ]
    },
    {
      "cell_type": "code",
      "metadata": {
        "id": "0UPqoSDFncnT"
      },
      "source": [
        "from math import *\n",
        "\n",
        "def metodoGaussSeidel(A,b,x, maxIter=10, eps=0.001):\n",
        "  \n",
        "  cont=0\n",
        "  n = len(A)\n",
        "\n",
        "  difference = float('inf')\n",
        "  xNew = x.copy()\n",
        "  xOld = x.copy()\n",
        "\n",
        "  #Trecho para impressao cabecalho\n",
        "  txtHead =\"\\tk|\"\n",
        "  txtHead+=\"\".join(\"        x{:d}|\".format(f) for f in range(1,n+1))\n",
        "  txtHead+=\" error(max)\"\n",
        "  print(txtHead)\n",
        "\n",
        "  txtBody=\"\\t{:d}|\".format(cont)\n",
        "  txtBody+=\"\".join(\"{:10.4f}|\".format(s) for s in xOld)\n",
        "  txtBody+=\"{:10.4f}\".format(difference)\n",
        "  print(txtBody)\n",
        "  #Fim\n",
        "\n",
        "  while cont < maxIter and difference > eps:\n",
        "    xOld = xNew.copy()\n",
        "\n",
        "    for i in range(n):\n",
        "      sumTerms = 0.0\n",
        "      for j in range(n):\n",
        "        if i !=j:\n",
        "          sumTerms += A[i][j]*xNew[j]\n",
        "      \n",
        "      xNew[i] = (1/A[i][i])*(b[i] - sumTerms)\n",
        "    \n",
        "    # Check the new maximum value to specify the error\n",
        "    difference = float('-inf')\n",
        "    for k in range(n):\n",
        "      v = abs(xNew[k]-xOld[k])\n",
        "      if v > difference:\n",
        "        difference = v\n",
        "\n",
        "    xOld = xNew.copy()\n",
        "    cont +=1\n",
        "\n",
        "    #Impressao dos resultados\n",
        "    txtBody=\"\\t{:d}|\".format(cont)\n",
        "    txtBody+=\"\".join(\"{:10.4f}|\".format(s) for s in xOld)\n",
        "    txtBody+=\"{:10.4f}\".format(difference)\n",
        "    print(txtBody)\n",
        "\n",
        "  return xNew\n",
        "\n"
      ],
      "execution_count": 157,
      "outputs": []
    },
    {
      "cell_type": "markdown",
      "source": [
        "# Execução dos códigos"
      ],
      "metadata": {
        "id": "cmZLxC_9Nt2e"
      }
    },
    {
      "cell_type": "code",
      "source": [
        "A = [[-9, 2, 6],\n",
        "     [ 2, 4,  1],\n",
        "     [-1, 1, -3]]\n",
        "\n",
        "b=[11,\n",
        "    4,\n",
        "   -2]\n",
        "\n",
        "resultadoJacobi = metodoJacobi(A,b,[0, 1.5, 1], maxIter=6, eps=0.01)\n",
        "\n",
        "print(\"Solucao, \", , \"\\n\\n\")\n",
        "print(\"Solucao, \", metodoGaussSeidel(A,b,[0, 1.5, 1], maxIter=6, eps=0.01))"
      ],
      "metadata": {
        "id": "4ccuziUaNvVO",
        "outputId": "4f5c14b0-4f0f-496a-90e9-abb68e947383",
        "colab": {
          "base_uri": "https://localhost:8080/"
        }
      },
      "execution_count": 158,
      "outputs": [
        {
          "output_type": "stream",
          "name": "stdout",
          "text": [
            "\tk|        x1|        x2|        x3| error(max)\n",
            "\t0|    0.0000|    1.5000|    1.0000|       inf\n",
            "\t1|   -0.2222|    0.7500|    1.1667|    0.7500\n",
            "\t2|   -0.2778|    0.8194|    0.9907|    0.1759\n",
            "\t3|   -0.3796|    0.8912|    1.0324|    0.1019\n",
            "\t4|   -0.3359|    0.9317|    1.0903|    0.0579\n",
            "\t5|   -0.2883|    0.8954|    1.0892|    0.0476\n",
            "\t6|   -0.2971|    0.8719|    1.0612|    0.0280\n",
            "Solucao,  [-0.2971107681755832, 0.8718599965706448, 1.0612354252400549] \n",
            "\n",
            "\n",
            "\tk|        x1|        x2|        x3| error(max)\n",
            "\t0|    0.0000|    1.5000|    1.0000|       inf\n",
            "\t1|   -0.2222|    0.8611|    1.0278|    0.6389\n",
            "\t2|   -0.3457|    0.9159|    1.0872|    0.1235\n",
            "\t3|   -0.2939|    0.8752|    1.0563|    0.0518\n",
            "\t4|   -0.3235|    0.8977|    1.0737|    0.0296\n",
            "\t5|   -0.3069|    0.8850|    1.0640|    0.0166\n",
            "\t6|   -0.3162|    0.8921|    1.0694|    0.0093\n",
            "Solucao,  [-0.316226432296812, 0.8921172442847314, 1.0694478921938477]\n"
          ]
        }
      ]
    }
  ]
}