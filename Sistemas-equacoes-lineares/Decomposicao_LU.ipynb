{
  "nbformat": 4,
  "nbformat_minor": 0,
  "metadata": {
    "colab": {
      "name": "20201 (Retomada) - Decomposicao-LU.ipynb",
      "provenance": [],
      "collapsed_sections": [],
      "authorship_tag": "ABX9TyMSvX5XKyyPN/4B67c1+rSc",
      "include_colab_link": true
    },
    "kernelspec": {
      "name": "python3",
      "display_name": "Python 3"
    }
  },
  "cells": [
    {
      "cell_type": "markdown",
      "metadata": {
        "id": "view-in-github",
        "colab_type": "text"
      },
      "source": [
        "<a href=\"https://colab.research.google.com/github/jadsoncastro/CalculoNumerico/blob/main/Sistemas-equacoes-lineares/Decomposicao_LU.ipynb\" target=\"_parent\"><img src=\"https://colab.research.google.com/assets/colab-badge.svg\" alt=\"Open In Colab\"/></a>"
      ]
    },
    {
      "cell_type": "markdown",
      "metadata": {
        "id": "eL8MS4JYjuc9"
      },
      "source": [
        "# **Método de decomposição LU**\n",
        "\n",
        "Neste programa, implementamos o método de decomposicao LU. O método consiste na determinação de duas matrizes L (triangular inferior com diagonal unitária) e U (diagonal superior obtida via método de gauss) que podem ser utilizadas para resolução de sistemas lineares do tipo Ax=b. \n",
        "\n",
        "Com base nessas duas matrizes, podemos reescrever a equação como (LU)x=b e resolver o sistema da seguinte forma:\n",
        "(i) Tomando Ux=y, podemos resolver o sistema Ly=b via substituições sucessivas\n",
        "(ii) Resolver o sistema triangular superior Ux=y, via substituições retroativas, e obter a solução do sistema Ax=b."
      ]
    },
    {
      "cell_type": "markdown",
      "metadata": {
        "id": "a728wVERnwiK"
      },
      "source": [
        "# Função: Definição de funções auxiliares"
      ]
    },
    {
      "cell_type": "code",
      "metadata": {
        "id": "pnmzj-hcR3RE"
      },
      "source": [
        "'''\n",
        "  Funcao para impressao de matrizes\n",
        "'''\n",
        "def imprimeMatriz(matriz, descricao):\n",
        "  numLinhas=len(matriz)\n",
        "  numColunas=len(matriz[0])\n",
        "\n",
        "  print(descricao)\n",
        "  for i in range(numLinhas):\n",
        "    for j in range(numColunas):\n",
        "      print(\"%.2f\\t\"%matriz[i][j], end=\"\")\n",
        "    print()\n",
        "  print()\n",
        "\n",
        "'''\n",
        "Funcao para impressao do vetor resultado\n",
        "'''\n",
        "def imprimeVetorResultado(vetor, descricao=\"\"):\n",
        "  print(\"Metodo: \", descricao)\n",
        "  \n",
        "  print(\"\\nSolucao do sistema: [\", end=\"\" )\n",
        "  for v in vetor:\n",
        "    print(\"%.4f\" % v, end=\" \")\n",
        "  print(\"]\")\n",
        "\n",
        "\n",
        "\n",
        "'''\n",
        "  Funcao auxiliar para criar as matrizes L e U\n",
        "'''\n",
        "def criaMatrizes(A):\n",
        "  matrizL = []\n",
        "  matrizU = []\n",
        "  numLinhas = len(A)\n",
        "  \n",
        "  for i in range(numLinhas):\n",
        "    matrizL.append([])\n",
        "    matrizU.append([])\n",
        "    for j in range(numLinhas):\n",
        "      matrizL[i].append(0)\n",
        "      matrizU[i].append(0)\n",
        "\n",
        "      if i==j:\n",
        "        matrizL[i][j]=1\n",
        "\n",
        "      matrizU[i][j] = A[i][j]\n",
        "  \n",
        "  return matrizL, matrizU\n",
        "\n",
        "\n",
        "\n",
        "'''\n",
        "  Funcao auxiliar. Calcular a operacao elementar da matriz\n",
        "'''\n",
        "def  operacaoElementar(m, linhaAtualizar, linhaBase):\n",
        "  nCol = len(linhaAtualizar)\n",
        "  for i in range(nCol):\n",
        "    linhaAtualizar[i]= linhaAtualizar[i]+m*linhaBase[i]\n",
        "\n",
        "\n",
        "'''\n",
        "  Funcao auxiliar. Coletar coluna de uma matriz\n",
        "  \n",
        "'''\n",
        "def getColuna(M, idColuna): # Considerando sempre uma matriz quadrada\n",
        "  vetor = []\n",
        "  numLinhas= len(M)\n",
        "\n",
        "  for i in range(numLinhas):\n",
        "    vetor.append(M[i][idColuna])\n",
        "  \n",
        "\n",
        "  return vetor\n",
        "\n",
        "\n",
        "\n",
        "'''\n",
        "  Algoritmo de substituicoes retroativas\n",
        "'''\n",
        "def substituicoesRetroativas(U,d): #U = matriz(nxn) d = vetor com n posicoes\n",
        "\tx=[]\n",
        "\tn=len(d) # numero de posicoes de d (que eh igual ao valor de n)\n",
        "\tfor i in range(n):\n",
        "\t\tx.append(0)\n",
        "\t\n",
        "\t# Incicio do algoritmo de substituicoes retroativas\n",
        "\tx[n-1] = d[n-1]/U[n-1][n-1] \n",
        "\t\n",
        "\tfor i in range((n-2),-1,-1):\n",
        "\t\tsoma=0\n",
        "\t\tfor j in range((i+1), n):\n",
        "\t\t\tsoma+=U[i][j]*x[j]\n",
        "\t\t\n",
        "\t\tx[i]=(d[i]-soma)/U[i][i]\n",
        "\treturn x # x possui o mesmo tamanho de d\n",
        "  # Fim do algoritmo de substituicoes retroativas\n",
        "\n",
        "\n",
        "\n",
        "'''\n",
        "  Algoritmo de substituicoes sucessivas\n",
        "'''\n",
        "def substituicoesSucessivas(L,c):\n",
        "  x=[]\n",
        "  n=len(c) # numero de posicoes de c (que eh igual ao valor de n)\n",
        "  \n",
        "  for i in range(n):\n",
        "    x.append(0)\n",
        "  \n",
        "  # Incicio do algoritmo de substituicoes sucessivas\n",
        "  x[0] = c[0]/L[0][0]\n",
        "  \n",
        "  for i in range(1,n):\n",
        "    soma=0\n",
        "    for j in range(i):\n",
        "      soma+=L[i][j]*x[j]\n",
        "    \n",
        "    x[i]=(c[i]-soma)/L[i][i]\n",
        "  return x # x possui o mesmo tamanho de c\n",
        "  # Fim do algoritmo de substituicoes sucessivas"
      ],
      "execution_count": null,
      "outputs": []
    },
    {
      "cell_type": "markdown",
      "metadata": {
        "id": "0Pnp_2d_pUt8"
      },
      "source": [
        "# Função de decomposicao.\n",
        "\n",
        "A função receberá como parâmetro a matriz de coeficientes (**A**) e retorna as matrizes L e U, onde L é uma matriz triangular inferior onde a diagonal principal é igual a 1 e U é uma matriz triangular superior obtida via metodo de Gauss."
      ]
    },
    {
      "cell_type": "code",
      "metadata": {
        "id": "bi0jKCuspyXr"
      },
      "source": [
        "def decompoe(A):\n",
        "  L,U= criaMatrizes(A)\n",
        "\n",
        "  numLinhas = len(A)\n",
        "  numColunas= len(A[0])\n",
        "  \n",
        "  # Execucao do metodo de Gauss\n",
        "  for j in range(numLinhas):\n",
        "    for i in range(j+1, numLinhas):      \n",
        "      # Calculo do multiplicador\n",
        "      multiplicador= -(U[i][j]/U[j][j])\n",
        "\n",
        "      # Realizacao da operacao elementar\n",
        "      operacaoElementar(multiplicador, U[i], U[j])\n",
        "\n",
        "      L[i][j]=-multiplicador\n",
        "    \n",
        "    #imprimeMatriz(L,\"Matriz L apos operacoes elementares\")\n",
        "    #imprimeMatriz(U,\"Matriz U apos operacoes elementares\")\n",
        "\n",
        "  # impressao das matrizes resultantes\n",
        "  imprimeMatriz(L,\"Matriz L apos todos os calculos\")\n",
        "  imprimeMatriz(U,\"Matriz U apos todos os calculos\")\n",
        "\n",
        "  # Resolucao por meio de substituicoes retroativas\n",
        "  return L,U"
      ],
      "execution_count": null,
      "outputs": []
    },
    {
      "cell_type": "markdown",
      "metadata": {
        "id": "R13BtrFGACPm"
      },
      "source": [
        "# Conectando tudo! Decomposição LU.\n",
        "\n",
        "Lembrando! Depois que obtemos as matrizes L e U podemos utilizá-las para quaisquer valores de B."
      ]
    },
    {
      "cell_type": "code",
      "metadata": {
        "id": "OIO9cjpDAM5r"
      },
      "source": [
        "def decomposicaoLU(A,B):\n",
        "  L,U= decompoe(A)\n",
        "\n",
        "  matrizX = []\n",
        "  numLinhas = len(B)\n",
        "  numColunas = len(B[0])\n",
        "  \n",
        "  for i in range(numLinhas):\n",
        "    matrizX.append([])\n",
        "    for j in range(numLinhas):\n",
        "      matrizX[i].append(0)\n",
        "  \n",
        "  \n",
        " \n",
        "  for j in range(numColunas):\n",
        "    x=[]\n",
        "    b = getColuna(B,j)\n",
        "\n",
        "    # Resolver o sistema linear Ly=b utilizando substituicoes sucessivas\n",
        "    y=substituicoesSucessivas(L,b)\n",
        "    \n",
        "    print(\"Resultado parcial y=\", y)\n",
        "\n",
        "    # Resolver o sistema linear Ux=y utilizando substituicoes retroativas\n",
        "    x=substituicoesRetroativas(U,y)\n",
        "\n",
        "    for i in range(numLinhas):\n",
        "      matrizX[i][j] = x[i]\n",
        "    \n",
        "\n",
        "  return matrizX"
      ],
      "execution_count": null,
      "outputs": []
    },
    {
      "cell_type": "markdown",
      "metadata": {
        "id": "uSQQKDVOt1E4"
      },
      "source": [
        "# Execução do programa\n"
      ]
    },
    {
      "cell_type": "code",
      "metadata": {
        "id": "ugFlOrk3t4ql",
        "colab": {
          "base_uri": "https://localhost:8080/"
        },
        "outputId": "4ebcb340-01b1-46ab-b394-acf9d344969c"
      },
      "source": [
        "\n",
        "A=[[3, 3, 1],\n",
        "   [1, 3, 0],\n",
        "   [0, 2, 3]] # Matriz de coeficientes\n",
        "\n",
        "B=[[0, 0, 1],\n",
        "   [0, 1, 0],\n",
        "   [1, 0, 0]] # Matriz de termos independentes\n",
        "\n",
        "\n",
        "imprimeMatriz(decomposicaoLU(A,B), \"Resposta exercício\")"
      ],
      "execution_count": null,
      "outputs": [
        {
          "output_type": "stream",
          "name": "stdout",
          "text": [
            "Matriz L apos todos os calculos\n",
            "1.00\t0.00\t0.00\t\n",
            "0.33\t1.00\t0.00\t\n",
            "0.00\t1.00\t1.00\t\n",
            "\n",
            "Matriz U apos todos os calculos\n",
            "3.00\t3.00\t1.00\t\n",
            "0.00\t2.00\t-0.33\t\n",
            "0.00\t0.00\t3.33\t\n",
            "\n",
            "Resultado parcial y= [0.0, 0.0, 1.0]\n",
            "Resultado parcial y= [0.0, 1.0, -1.0]\n",
            "Resultado parcial y= [1.0, -0.3333333333333333, 0.3333333333333333]\n",
            "Resposta exercício\n",
            "-0.15\t-0.35\t0.45\t\n",
            "0.05\t0.45\t-0.15\t\n",
            "0.30\t-0.30\t0.10\t\n",
            "\n"
          ]
        }
      ]
    }
  ]
}