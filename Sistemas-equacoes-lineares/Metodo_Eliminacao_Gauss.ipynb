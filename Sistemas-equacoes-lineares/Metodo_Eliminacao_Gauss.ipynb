{
  "nbformat": 4,
  "nbformat_minor": 0,
  "metadata": {
    "colab": {
      "name": "20201 (Retomada) -Metodo-Eliminacao-Gauss.ipynb",
      "provenance": [],
      "collapsed_sections": []
    },
    "kernelspec": {
      "name": "python3",
      "display_name": "Python 3"
    }
  },
  "cells": [
    {
      "cell_type": "markdown",
      "metadata": {
        "id": "eL8MS4JYjuc9"
      },
      "source": [
        "# **Método de eliminação de Gauss**\n",
        "\n",
        "Neste programa, implementamos o método de eliminação de Gauss. O método consiste na realização de transformações elementares em uma matriz aumentada, com o objetivo de transformá-la em uma triangular superior. Com base na matriz triangular superior, é aplicado o método de substituições retroativas."
      ]
    },
    {
      "cell_type": "markdown",
      "metadata": {
        "id": "a728wVERnwiK"
      },
      "source": [
        "# Função: Definição de funções auxiliares"
      ]
    },
    {
      "cell_type": "code",
      "metadata": {
        "id": "11-DxNlzjayG"
      },
      "source": [
        "'''\n",
        "  Funcao para impressao de matrizes\n",
        "'''\n",
        "def imprimeMatriz(matriz, descricao):\n",
        "  numLinhas=len(matriz)\n",
        "  numColunas=len(matriz[0])\n",
        "\n",
        "  print(descricao)\n",
        "  for i in range(numLinhas):\n",
        "    for j in range(numColunas):\n",
        "      print(\"%.4f\\t\"%matriz[i][j], end=\"\")\n",
        "    print()\n",
        "  print()\n",
        "\n",
        "'''\n",
        "  Funcao auxiliar para criar a matriz aumentada\n",
        "'''\n",
        "def criaMatrizAumentada(A,b):\n",
        "  matrizAumentada = []\n",
        "  numLinhas = len(A)\n",
        "  \n",
        "  for i in range(numLinhas):\n",
        "    linha=A[i].copy()\n",
        "    linha.append(b[i])\n",
        "    matrizAumentada.append(linha)\n",
        "  \n",
        "  return matrizAumentada\n",
        "\n",
        "\n",
        "'''\n",
        "  Funcao auxiliar. Calcular a operacao elementar da matriz\n",
        "'''\n",
        "def  operacaoElementar(m, linhaAtualizar, linhaBase):\n",
        "  nCol = len(linhaAtualizar)\n",
        "\n",
        "  for i in range(nCol):\n",
        "    linhaAtualizar[i]= linhaAtualizar[i]+m*linhaBase[i]\n",
        "\n",
        "'''\n",
        "  Funcao auxliar: troca de linha entre um elemento nulo do pivo e um correspondente nao nulo\n",
        "'''\n",
        "def trocaLinha(matriz, colunaId):\n",
        "  numLinhas = len(matriz)\n",
        "  \n",
        "  for i in range(colunaId+1, numLinhas):\n",
        "    if matriz[i][colunaId] != 0:\n",
        "      print(\"Trocando linhas %d e %d\" %(colunaId, i))\n",
        "      aux = matriz[i].copy()\n",
        "      matriz[i] = matriz[colunaId].copy()\n",
        "      matriz[colunaId] = aux.copy()\n",
        "      \n",
        "      return matriz[colunaId][colunaId]\n",
        "\n",
        "\n",
        "'''\n",
        "  Funcao auxiliar: Algoritmo de substituicoes retroativas\n",
        "'''\n",
        "def substituicoesRetroativas(Ud):\n",
        "  x=[]\n",
        "  n = len(Ud)\n",
        "  c = len(Ud[0])-1\n",
        "  \n",
        "  for i in range(n):\n",
        "    x.append(0)\n",
        "  \n",
        "  # Incicio do algoritmo de substituicoes retroativas\n",
        "  x[n-1] = Ud[n-1][c]/Ud[n-1][n-1] \n",
        "  \n",
        "  for i in range((n-2),-1,-1):\n",
        "    soma=0\n",
        "    for j in range((i+1), n):\n",
        "      soma+=Ud[i][j]*x[j]\n",
        "    x[i]=(Ud[i][c]-soma)/Ud[i][i]\n",
        "  \n",
        "  return x # x possui o mesmo tamanho de d\n"
      ],
      "execution_count": 13,
      "outputs": []
    },
    {
      "cell_type": "markdown",
      "metadata": {
        "id": "0Pnp_2d_pUt8"
      },
      "source": [
        "# Função Método de Gauss.\n",
        "\n",
        "A função receberá como parâmetro a matriz de coeficientes (**A**) e a matriz de termos independentes (**b**) e cria a matriz aumentada utilizando a função *criaMatrizAumentada*"
      ]
    },
    {
      "cell_type": "code",
      "metadata": {
        "id": "bi0jKCuspyXr"
      },
      "source": [
        "def metodoGauss(A,b):\n",
        "  matriz= criaMatrizAumentada(A,b)\n",
        "\n",
        "  numLinhas = len(matriz)\n",
        "  numColunas= len(matriz[0])\n",
        "\n",
        "  # impressao da matriz resultante\n",
        "  print(\"Matriz aumentada\")\n",
        "  for i in range(numLinhas):\n",
        "    for j in range(numColunas):\n",
        "      print(\"%3.4f\\t\"%matriz[i][j], end=\"\")\n",
        "    print()\n",
        "\n",
        "  # Execucao do metodo de Gauss\n",
        "  for j in range(numLinhas):\n",
        "    print(\"\\nIteracao\", j+1)\n",
        "    imprimeMatriz(matriz, \"\")\n",
        "    for i in range(j+1, numLinhas):\n",
        "      \n",
        "      #determinacao do pivo\n",
        "      pivo = matriz[j][j]\n",
        "      \n",
        "      #Caso o pivo seja igual a zero, precisamos trocar por uma linha que possua um valor diferente de zero\n",
        "      if pivo == 0:\n",
        "        pivo = trocaLinha(matriz, j)\n",
        "        print(\"Novo pivo: %.4f\" % pivo)\n",
        "\n",
        "\n",
        "      # Calculo do multiplicador\n",
        "      multiplicador= -(matriz[i][j]/pivo)\n",
        "      print(\"Multiplicador m%d%d=%.4f\" %(i+1, j+1, (matriz[i][j]/pivo)))\n",
        "\n",
        "      # Realizacao da operacao elementar\n",
        "      operacaoElementar(multiplicador, matriz[i], matriz[j])\n",
        "  \n",
        "\n",
        "  # impressao da matriz resultante\n",
        "  print(\"\\nMatriz aumentada equivalente (triangular superior)\")\n",
        "  for i in range(numLinhas):\n",
        "    for j in range(numColunas):\n",
        "      print(\"%.4f\\t\"%matriz[i][j], end=\"\")\n",
        "    print()\n",
        "\n",
        "  # Resolucao por meio de substituicoes retroativas\n",
        "  return substituicoesRetroativas(matriz)\n"
      ],
      "execution_count": 14,
      "outputs": []
    },
    {
      "cell_type": "markdown",
      "metadata": {
        "id": "uSQQKDVOt1E4"
      },
      "source": [
        "# Execução do programa\n"
      ]
    },
    {
      "cell_type": "code",
      "metadata": {
        "id": "ugFlOrk3t4ql",
        "colab": {
          "base_uri": "https://localhost:8080/"
        },
        "outputId": "269f8dab-e236-4dda-9dbc-0c99facfa01a"
      },
      "source": [
        "A=[[1, 1, 3, 4],\n",
        "   [1, 1, 5, 6],\n",
        "   [2, 5, 1, 2],\n",
        "   [4, 6, 2, 1]]\n",
        "b=[-1,\n",
        "   -7,\n",
        "   10,\n",
        "   12]\n",
        "print(\"Metodo sem pivotacao\")\n",
        "vetorResultado = metodoGauss(A,b)\n",
        "\n",
        "print(\"\\nSolucao do sistema: [\", end=\"\" )\n",
        "for v in vetorResultado:\n",
        "  print(\"%.4f\" % v, end=\" \")\n",
        "print(\"]\")"
      ],
      "execution_count": 15,
      "outputs": [
        {
          "output_type": "stream",
          "name": "stdout",
          "text": [
            "Metodo sem pivotacao\n",
            "Matriz aumentada\n",
            "1.0000\t1.0000\t3.0000\t4.0000\t-1.0000\t\n",
            "1.0000\t1.0000\t5.0000\t6.0000\t-7.0000\t\n",
            "2.0000\t5.0000\t1.0000\t2.0000\t10.0000\t\n",
            "4.0000\t6.0000\t2.0000\t1.0000\t12.0000\t\n",
            "\n",
            "Iteracao 1\n",
            "\n",
            "1.0000\t1.0000\t3.0000\t4.0000\t-1.0000\t\n",
            "1.0000\t1.0000\t5.0000\t6.0000\t-7.0000\t\n",
            "2.0000\t5.0000\t1.0000\t2.0000\t10.0000\t\n",
            "4.0000\t6.0000\t2.0000\t1.0000\t12.0000\t\n",
            "\n",
            "Multiplicador m21=1.0000\n",
            "Multiplicador m31=2.0000\n",
            "Multiplicador m41=4.0000\n",
            "\n",
            "Iteracao 2\n",
            "\n",
            "1.0000\t1.0000\t3.0000\t4.0000\t-1.0000\t\n",
            "0.0000\t0.0000\t2.0000\t2.0000\t-6.0000\t\n",
            "0.0000\t3.0000\t-5.0000\t-6.0000\t12.0000\t\n",
            "0.0000\t2.0000\t-10.0000\t-15.0000\t16.0000\t\n",
            "\n",
            "Trocando linhas 1 e 2\n",
            "Novo pivo: 3.0000\n",
            "Multiplicador m32=0.0000\n",
            "Multiplicador m42=0.6667\n",
            "\n",
            "Iteracao 3\n",
            "\n",
            "1.0000\t1.0000\t3.0000\t4.0000\t-1.0000\t\n",
            "0.0000\t3.0000\t-5.0000\t-6.0000\t12.0000\t\n",
            "0.0000\t0.0000\t2.0000\t2.0000\t-6.0000\t\n",
            "0.0000\t0.0000\t-6.6667\t-11.0000\t8.0000\t\n",
            "\n",
            "Multiplicador m43=-3.3333\n",
            "\n",
            "Iteracao 4\n",
            "\n",
            "1.0000\t1.0000\t3.0000\t4.0000\t-1.0000\t\n",
            "0.0000\t3.0000\t-5.0000\t-6.0000\t12.0000\t\n",
            "0.0000\t0.0000\t2.0000\t2.0000\t-6.0000\t\n",
            "0.0000\t0.0000\t0.0000\t-4.3333\t-12.0000\t\n",
            "\n",
            "\n",
            "Matriz aumentada equivalente (triangular superior)\n",
            "1.0000\t1.0000\t3.0000\t4.0000\t-1.0000\t\n",
            "0.0000\t3.0000\t-5.0000\t-6.0000\t12.0000\t\n",
            "0.0000\t0.0000\t2.0000\t2.0000\t-6.0000\t\n",
            "0.0000\t0.0000\t0.0000\t-4.3333\t-12.0000\t\n",
            "\n",
            "Solucao do sistema: [5.3077 -0.0769 -5.7692 2.7692 ]\n"
          ]
        }
      ]
    }
  ]
}
